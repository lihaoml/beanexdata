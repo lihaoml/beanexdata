{
 "cells": [
  {
   "cell_type": "code",
   "execution_count": 28,
   "metadata": {
    "collapsed": true,
    "pycharm": {
     "is_executing": false
    }
   },
   "outputs": [
    {
     "data": {
      "text/plain": "                v60      spread60           v10      spread10            v2  \\\ncount  4.317000e+04  43170.000000  4.317000e+04  43170.000000  4.317000e+04   \nmean   3.291790e+05     12.286656  5.484681e+04      4.750983  1.096437e+04   \nstd    3.597360e+05      8.040419  9.355599e+04      3.540313  3.143826e+04   \nmin    2.944434e+04      0.270000  6.926898e+02      0.010000  0.000000e+00   \n25%    1.355874e+05      7.260000  1.537684e+04      2.570000  1.743762e+03   \n50%    2.138803e+05     10.430000  2.800956e+04      3.910000  3.814554e+03   \n75%    3.708641e+05     15.060000  5.637934e+04      5.830000  9.300490e+03   \nmax    4.856962e+06    106.820000  3.258197e+06     47.620000  2.684766e+06   \n\n            spread2  \ncount  43170.000000  \nmean       2.009683  \nstd        1.923749  \nmin        0.000000  \n25%        0.700000  \n50%        1.650000  \n75%        2.720000  \nmax       46.490000  ",
      "text/html": "<div>\n<style scoped>\n    .dataframe tbody tr th:only-of-type {\n        vertical-align: middle;\n    }\n\n    .dataframe tbody tr th {\n        vertical-align: top;\n    }\n\n    .dataframe thead th {\n        text-align: right;\n    }\n</style>\n<table border=\"1\" class=\"dataframe\">\n  <thead>\n    <tr style=\"text-align: right;\">\n      <th></th>\n      <th>v60</th>\n      <th>spread60</th>\n      <th>v10</th>\n      <th>spread10</th>\n      <th>v2</th>\n      <th>spread2</th>\n    </tr>\n  </thead>\n  <tbody>\n    <tr>\n      <th>count</th>\n      <td>4.317000e+04</td>\n      <td>43170.000000</td>\n      <td>4.317000e+04</td>\n      <td>43170.000000</td>\n      <td>4.317000e+04</td>\n      <td>43170.000000</td>\n    </tr>\n    <tr>\n      <th>mean</th>\n      <td>3.291790e+05</td>\n      <td>12.286656</td>\n      <td>5.484681e+04</td>\n      <td>4.750983</td>\n      <td>1.096437e+04</td>\n      <td>2.009683</td>\n    </tr>\n    <tr>\n      <th>std</th>\n      <td>3.597360e+05</td>\n      <td>8.040419</td>\n      <td>9.355599e+04</td>\n      <td>3.540313</td>\n      <td>3.143826e+04</td>\n      <td>1.923749</td>\n    </tr>\n    <tr>\n      <th>min</th>\n      <td>2.944434e+04</td>\n      <td>0.270000</td>\n      <td>6.926898e+02</td>\n      <td>0.010000</td>\n      <td>0.000000e+00</td>\n      <td>0.000000</td>\n    </tr>\n    <tr>\n      <th>25%</th>\n      <td>1.355874e+05</td>\n      <td>7.260000</td>\n      <td>1.537684e+04</td>\n      <td>2.570000</td>\n      <td>1.743762e+03</td>\n      <td>0.700000</td>\n    </tr>\n    <tr>\n      <th>50%</th>\n      <td>2.138803e+05</td>\n      <td>10.430000</td>\n      <td>2.800956e+04</td>\n      <td>3.910000</td>\n      <td>3.814554e+03</td>\n      <td>1.650000</td>\n    </tr>\n    <tr>\n      <th>75%</th>\n      <td>3.708641e+05</td>\n      <td>15.060000</td>\n      <td>5.637934e+04</td>\n      <td>5.830000</td>\n      <td>9.300490e+03</td>\n      <td>2.720000</td>\n    </tr>\n    <tr>\n      <th>max</th>\n      <td>4.856962e+06</td>\n      <td>106.820000</td>\n      <td>3.258197e+06</td>\n      <td>47.620000</td>\n      <td>2.684766e+06</td>\n      <td>46.490000</td>\n    </tr>\n  </tbody>\n</table>\n</div>"
     },
     "metadata": {},
     "output_type": "execute_result",
     "execution_count": 28
    }
   ],
   "source": [
    "import pandas as pd\n",
    "import matplotlib.pylab as plt\n",
    "import iso8601\n",
    "import datetime\n",
    "from pandas.plotting import register_matplotlib_converters\n",
    "from IPython.display import display\n",
    "register_matplotlib_converters()\n",
    "\n",
    "volData = pd.read_csv(\"volAnalysis20190618.csv\")\n",
    "volData.describe()\n",
    "\n"
   ]
  },
  {
   "cell_type": "code",
   "execution_count": 27,
   "outputs": [
    {
     "data": {
      "text/plain": "                v60      spread60           v10      spread10            v2  \\\ncount  4.317000e+04  43170.000000  4.317000e+04  43170.000000  4.317000e+04   \nmean   2.748668e+05     12.629076  4.581909e+04      4.623562  9.163935e+03   \nstd    2.971356e+05      9.295799  7.339045e+04      3.870841  2.455619e+04   \nmin    3.434441e+04      0.230000  1.250922e+02      0.010000  0.000000e+00   \n25%    1.225159e+05      7.350000  1.378495e+04      2.440000  1.577663e+03   \n50%    1.844520e+05     10.660000  2.468527e+04      3.770000  3.391914e+03   \n75%    3.077554e+05     15.650000  4.873006e+04      5.730000  8.215082e+03   \nmax    4.775271e+06    158.000000  2.971537e+06    157.510000  2.718522e+06   \n\n            spread2  \ncount  43170.000000  \nmean       1.915649  \nstd        2.026853  \nmin        0.000000  \n25%        0.650000  \n50%        1.550000  \n75%        2.610000  \nmax      157.420000  ",
      "text/html": "<div>\n<style scoped>\n    .dataframe tbody tr th:only-of-type {\n        vertical-align: middle;\n    }\n\n    .dataframe tbody tr th {\n        vertical-align: top;\n    }\n\n    .dataframe thead th {\n        text-align: right;\n    }\n</style>\n<table border=\"1\" class=\"dataframe\">\n  <thead>\n    <tr style=\"text-align: right;\">\n      <th></th>\n      <th>v60</th>\n      <th>spread60</th>\n      <th>v10</th>\n      <th>spread10</th>\n      <th>v2</th>\n      <th>spread2</th>\n    </tr>\n  </thead>\n  <tbody>\n    <tr>\n      <th>count</th>\n      <td>4.317000e+04</td>\n      <td>43170.000000</td>\n      <td>4.317000e+04</td>\n      <td>43170.000000</td>\n      <td>4.317000e+04</td>\n      <td>43170.000000</td>\n    </tr>\n    <tr>\n      <th>mean</th>\n      <td>2.748668e+05</td>\n      <td>12.629076</td>\n      <td>4.581909e+04</td>\n      <td>4.623562</td>\n      <td>9.163935e+03</td>\n      <td>1.915649</td>\n    </tr>\n    <tr>\n      <th>std</th>\n      <td>2.971356e+05</td>\n      <td>9.295799</td>\n      <td>7.339045e+04</td>\n      <td>3.870841</td>\n      <td>2.455619e+04</td>\n      <td>2.026853</td>\n    </tr>\n    <tr>\n      <th>min</th>\n      <td>3.434441e+04</td>\n      <td>0.230000</td>\n      <td>1.250922e+02</td>\n      <td>0.010000</td>\n      <td>0.000000e+00</td>\n      <td>0.000000</td>\n    </tr>\n    <tr>\n      <th>25%</th>\n      <td>1.225159e+05</td>\n      <td>7.350000</td>\n      <td>1.378495e+04</td>\n      <td>2.440000</td>\n      <td>1.577663e+03</td>\n      <td>0.650000</td>\n    </tr>\n    <tr>\n      <th>50%</th>\n      <td>1.844520e+05</td>\n      <td>10.660000</td>\n      <td>2.468527e+04</td>\n      <td>3.770000</td>\n      <td>3.391914e+03</td>\n      <td>1.550000</td>\n    </tr>\n    <tr>\n      <th>75%</th>\n      <td>3.077554e+05</td>\n      <td>15.650000</td>\n      <td>4.873006e+04</td>\n      <td>5.730000</td>\n      <td>8.215082e+03</td>\n      <td>2.610000</td>\n    </tr>\n    <tr>\n      <th>max</th>\n      <td>4.775271e+06</td>\n      <td>158.000000</td>\n      <td>2.971537e+06</td>\n      <td>157.510000</td>\n      <td>2.718522e+06</td>\n      <td>157.420000</td>\n    </tr>\n  </tbody>\n</table>\n</div>"
     },
     "metadata": {},
     "output_type": "execute_result",
     "execution_count": 27
    }
   ],
   "source": [
    "volData2 = pd.read_csv(\"volAnalysis20190617.csv\")\n",
    "volData2.describe()\n",
    "\n"
   ],
   "metadata": {
    "collapsed": false,
    "pycharm": {
     "name": "#%%\n",
     "is_executing": false
    }
   }
  }
 ],
 "metadata": {
  "language_info": {
   "codemirror_mode": {
    "name": "ipython",
    "version": 2
   },
   "file_extension": ".py",
   "mimetype": "text/x-python",
   "name": "python",
   "nbconvert_exporter": "python",
   "pygments_lexer": "ipython2",
   "version": "2.7.6"
  },
  "kernelspec": {
   "name": "python3",
   "language": "python",
   "display_name": "Python 3"
  },
  "pycharm": {
   "stem_cell": {
    "cell_type": "raw",
    "source": [],
    "metadata": {
     "collapsed": false
    }
   }
  }
 },
 "nbformat": 4,
 "nbformat_minor": 0
}